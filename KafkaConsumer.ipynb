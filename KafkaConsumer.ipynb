{
 "cells": [
  {
   "cell_type": "code",
   "execution_count": null,
   "id": "15b51099",
   "metadata": {
    "scrolled": true
   },
   "outputs": [],
   "source": [
    "!pip install kafka-python\n",
    "!pip install s3fs"
   ]
  },
  {
   "cell_type": "code",
   "execution_count": 3,
   "id": "dea6c1e6",
   "metadata": {},
   "outputs": [],
   "source": [
    "''' Importing libraries '''\n",
    "import os\n",
    "import pandas as pd\n",
    "from kafka import KafkaConsumer\n",
    "from time import sleep\n",
    "from json import dumps, loads\n",
    "import json\n",
    "from s3fs import S3FileSystem\n",
    "from dotenv import load_dotenv\n",
    "load_dotenv('./.env')"
   ]
  },
  {
   "cell_type": "code",
   "execution_count": 4,
   "id": "6b215ae7",
   "metadata": {},
   "outputs": [],
   "source": [
    "''' Initializing the Kafka-consumer using topic name, bootstrap_server and value_serializer function '''\n",
    "\n",
    "bootstrap_server = os.getenv('server_ip')\n",
    "\n",
    "consumer = KafkaConsumer(\n",
    "            'demo-test',\n",
    "            bootstrap_servers=['18.188.97.6:9092'],\n",
    "            value_deserializer = lambda x: loads(x.decode('utf-8')),\n",
    "    api_version=(0,10,1)\n",
    ")"
   ]
  },
  {
   "cell_type": "code",
   "execution_count": 5,
   "id": "2bb5f1e3",
   "metadata": {
    "scrolled": true
   },
   "outputs": [],
   "source": [
    "# for c in consumer:\n",
    "#     print(c.value)"
   ]
  },
  {
   "cell_type": "code",
   "execution_count": 6,
   "id": "030de562",
   "metadata": {},
   "outputs": [],
   "source": [
    "''' Initializing AWS S3 object '''\n",
    "s3 = S3FileSystem()"
   ]
  },
  {
   "cell_type": "code",
   "execution_count": null,
   "id": "140c6d64",
   "metadata": {},
   "outputs": [],
   "source": [
    "''' Storing received data on S3 bucket '''\n",
    "\n",
    "target_S3_url = os.getenv('target_S3_url')\n",
    "\n",
    "for count, i in enumerate(consumer):\n",
    "    with s3.open(target_S3_url.format(count), 'w') as file:\n",
    "        json.dump(i.value, file)"
   ]
  }
 ],
 "metadata": {
  "kernelspec": {
   "display_name": "Python 3 (ipykernel)",
   "language": "python",
   "name": "python3"
  },
  "language_info": {
   "codemirror_mode": {
    "name": "ipython",
    "version": 3
   },
   "file_extension": ".py",
   "mimetype": "text/x-python",
   "name": "python",
   "nbconvert_exporter": "python",
   "pygments_lexer": "ipython3",
   "version": "3.9.12"
  },
  "vscode": {
   "interpreter": {
    "hash": "99ad2dadf486fc70d02b14778e6b087e0b2b784c798d21d3207b932ef4d483ee"
   }
  }
 },
 "nbformat": 4,
 "nbformat_minor": 5
}
